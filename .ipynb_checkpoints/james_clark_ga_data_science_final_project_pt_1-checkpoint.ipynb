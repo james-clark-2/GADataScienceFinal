{
 "cells": [
  {
   "cell_type": "markdown",
   "metadata": {},
   "source": [
    "GA Data Science - Final Project\n",
    "James Clark\n",
    "\n",
    "Real estate value can be extremely subjective. Almost all single family and rental properties can be summed up based on some standard objective features - square footage, number of bedrooms and bathrooms, lot size, and so on. But, there are other features that may be attractive to potential purchasers that are not as easily quantifiable.\n",
    "\n",
    "The goal of this analysis is to use the language used to describe the property listing to determine other feature of a property listing. Additionally, a value could be associated with these objective features.\n",
    "\n",
    "Analysis will be done using a set of Trulia property listing data found on kaggle.com (https://www.kaggle.com/promptcloud/real-estate-data-from-trulia)."
   ]
  },
  {
   "cell_type": "code",
   "execution_count": 1,
   "metadata": {},
   "outputs": [
    {
     "name": "stdout",
     "output_type": "stream",
     "text": [
      "Requirement already satisfied: stringcase in /home/jamesc/anaconda3/lib/python3.8/site-packages (1.2.0)\n",
      "Requirement already satisfied: fold_to_ascii in /home/jamesc/anaconda3/lib/python3.8/site-packages (1.0.2.post1)\n"
     ]
    }
   ],
   "source": [
    "! pip install stringcase\n",
    "! pip install fold_to_ascii"
   ]
  },
  {
   "cell_type": "code",
   "execution_count": 2,
   "metadata": {},
   "outputs": [],
   "source": [
    "import pandas as pd\n",
    "import stringcase\n",
    "import re\n",
    "import nltk\n",
    "from nltk.corpus import stopwords\n",
    "from nltk.stem import SnowballStemmer\n",
    "from sklearn.feature_extraction.text import CountVectorizer\n",
    "from sklearn.feature_extraction.text import TfidfVectorizer\n",
    "from fold_to_ascii import fold\n",
    "\n",
    "%matplotlib inline"
   ]
  },
  {
   "cell_type": "code",
   "execution_count": null,
   "metadata": {},
   "outputs": [],
   "source": []
  },
  {
   "cell_type": "code",
   "execution_count": 3,
   "metadata": {},
   "outputs": [],
   "source": [
    "def drop_unused_columns(df: pd.DataFrame):    \n",
    "    columns_to_keep = {'description', 'price', 'sqr_ft', 'longitude', 'latitude', 'lot_size', 'beds', 'bath'}\n",
    "    df.drop(columns = df.columns.difference(columns_to_keep), inplace = True)\n",
    "    \n",
    "\n",
    "def numerize_columns(df: pd.DataFrame):    \n",
    "    for column in ['sqr_ft', 'price', 'lot_size']:\n",
    "        df[column] = df[column].apply(lambda sqft: re.sub(\"[^\\d\\.]+\", \"\", str(sqft)) if pd.notnull(sqft) else sqft)    \n",
    "\n",
    "def remove_rows_with_empty_descriptions(df: pd.DataFrame):    \n",
    "    df.dropna(subset = ['description'], inplace = True)    \n",
    "\n",
    "def clean_text(text):\n",
    "    punctuations=\"?:!.,;-@/*&\"\n",
    "    sentence_words = nltk.word_tokenize(text)\n",
    "    stemmer = SnowballStemmer('english')    \n",
    "    \n",
    "    words = [word.lower() for word in sentence_words if word.lower() not in stopwords.words('english')]    \n",
    "    words = [word for word in words if word not in punctuations]\n",
    "    words = [fold(word) for word in words]        \n",
    "    words = [stemmer.stem(word) for word in words]\n",
    "    words = [word for word in words if re.match('^\\d+', word) == None]\n",
    "    \n",
    "    return ' '.join(words)\n",
    "    \n",
    "def clean_data(df: pd.DataFrame):    \n",
    "    df.columns = [stringcase.snakecase(column.lower()) for column in df.columns]        \n",
    "    remove_rows_with_empty_descriptions(df)    \n",
    "    drop_unused_columns(df)            \n",
    "    numerize_columns(df)        \n",
    "    df.description = df.description.apply(clean_text)\n",
    "    \n",
    "\n",
    "def tokenize_text(df: pd.DataFrame) -> pd.DataFrame:\n",
    "    #vect = TfidfVectorizer()    \n",
    "    vect = CountVectorizer()\n",
    "    return pd.DataFrame(vect.fit_transform(df.description).toarray(), columns=vect.get_feature_names())\n",
    "        "
   ]
  },
  {
   "cell_type": "code",
   "execution_count": 4,
   "metadata": {},
   "outputs": [],
   "source": [
    "def load_and_clean_data(force_refresh = False, nrows = None) -> pd.DataFrame:\n",
    "    if (force_refresh):\n",
    "        df = pd.read_csv('data/home/sdf/marketing_sample_for_trulia_com-real_estate__20190901_20191031__30k_data.csv', nrows=nrows)\n",
    "        clean_data(df)\n",
    "        df.to_csv('data/cleaned_marketing_sample_for_trulia_com.csv', index = False)\n",
    "    else:\n",
    "        try:\n",
    "            df = pd.read_csv('data/cleaned_marketing_sample_for_trulia_com.csv', nrows=nrows)            \n",
    "            remove_rows_with_empty_descriptions(df)\n",
    "        except IOError:\n",
    "            return load_and_clean_data(True)\n",
    "    return df"
   ]
  },
  {
   "cell_type": "code",
   "execution_count": 7,
   "metadata": {},
   "outputs": [
    {
     "name": "stdout",
     "output_type": "stream",
     "text": [
      "abc fart fart\n"
     ]
    }
   ],
   "source": [
    "#This will create a csv containing cleaned data if one does not already exist.\n",
    "#Set force_refresh to True to reload it all from scratch.\n",
    "#df = load_and_clean_data(force_refresh = False)\n",
    "\n",
    "print(clean_text('123abc abc fart and farting'))"
   ]
  },
  {
   "cell_type": "code",
   "execution_count": 6,
   "metadata": {},
   "outputs": [
    {
     "data": {
      "text/plain": [
       "(29976, 8)"
      ]
     },
     "execution_count": 6,
     "metadata": {},
     "output_type": "execute_result"
    }
   ],
   "source": [
    "df.shape"
   ]
  },
  {
   "cell_type": "code",
   "execution_count": 7,
   "metadata": {},
   "outputs": [
    {
     "data": {
      "text/html": [
       "<div>\n",
       "<style scoped>\n",
       "    .dataframe tbody tr th:only-of-type {\n",
       "        vertical-align: middle;\n",
       "    }\n",
       "\n",
       "    .dataframe tbody tr th {\n",
       "        vertical-align: top;\n",
       "    }\n",
       "\n",
       "    .dataframe thead th {\n",
       "        text-align: right;\n",
       "    }\n",
       "</style>\n",
       "<table border=\"1\" class=\"dataframe\">\n",
       "  <thead>\n",
       "    <tr style=\"text-align: right;\">\n",
       "      <th></th>\n",
       "      <th>description</th>\n",
       "      <th>price</th>\n",
       "      <th>sqr_ft</th>\n",
       "      <th>longitude</th>\n",
       "      <th>latitude</th>\n",
       "      <th>lot_size</th>\n",
       "      <th>beds</th>\n",
       "      <th>bath</th>\n",
       "    </tr>\n",
       "  </thead>\n",
       "  <tbody>\n",
       "    <tr>\n",
       "      <th>0</th>\n",
       "      <td>new construct north central corridor complet e...</td>\n",
       "      <td>895900.0</td>\n",
       "      <td>3447.0</td>\n",
       "      <td>-112.081985</td>\n",
       "      <td>33.560055</td>\n",
       "      <td>7895.0</td>\n",
       "      <td>4.0</td>\n",
       "      <td>4.5</td>\n",
       "    </tr>\n",
       "    <tr>\n",
       "      <th>1</th>\n",
       "      <td>updat east dalla home readi move-in home featu...</td>\n",
       "      <td>247000.0</td>\n",
       "      <td>1767.0</td>\n",
       "      <td>-96.676250</td>\n",
       "      <td>32.829227</td>\n",
       "      <td>7877.0</td>\n",
       "      <td>3.0</td>\n",
       "      <td>2.0</td>\n",
       "    </tr>\n",
       "    <tr>\n",
       "      <th>2</th>\n",
       "      <td>single-famili home locat hurlock ave buffalo n...</td>\n",
       "      <td>44900.0</td>\n",
       "      <td>1232.0</td>\n",
       "      <td>-78.825190</td>\n",
       "      <td>42.913000</td>\n",
       "      <td>3510.0</td>\n",
       "      <td>3.0</td>\n",
       "      <td>1.0</td>\n",
       "    </tr>\n",
       "    <tr>\n",
       "      <th>3</th>\n",
       "      <td>beauti semi detach ranch type corner hous loop...</td>\n",
       "      <td>959000.0</td>\n",
       "      <td>1417.0</td>\n",
       "      <td>-73.860170</td>\n",
       "      <td>40.722960</td>\n",
       "      <td>2598.0</td>\n",
       "      <td>3.0</td>\n",
       "      <td>2.0</td>\n",
       "    </tr>\n",
       "    <tr>\n",
       "      <th>4</th>\n",
       "      <td>great investor opportun beauti studio apart mi...</td>\n",
       "      <td>83500.0</td>\n",
       "      <td>440.0</td>\n",
       "      <td>-80.206314</td>\n",
       "      <td>25.937965</td>\n",
       "      <td>NaN</td>\n",
       "      <td>NaN</td>\n",
       "      <td>1.0</td>\n",
       "    </tr>\n",
       "  </tbody>\n",
       "</table>\n",
       "</div>"
      ],
      "text/plain": [
       "                                         description     price  sqr_ft  \\\n",
       "0  new construct north central corridor complet e...  895900.0  3447.0   \n",
       "1  updat east dalla home readi move-in home featu...  247000.0  1767.0   \n",
       "2  single-famili home locat hurlock ave buffalo n...   44900.0  1232.0   \n",
       "3  beauti semi detach ranch type corner hous loop...  959000.0  1417.0   \n",
       "4  great investor opportun beauti studio apart mi...   83500.0   440.0   \n",
       "\n",
       "    longitude   latitude  lot_size  beds  bath  \n",
       "0 -112.081985  33.560055    7895.0   4.0   4.5  \n",
       "1  -96.676250  32.829227    7877.0   3.0   2.0  \n",
       "2  -78.825190  42.913000    3510.0   3.0   1.0  \n",
       "3  -73.860170  40.722960    2598.0   3.0   2.0  \n",
       "4  -80.206314  25.937965       NaN   NaN   1.0  "
      ]
     },
     "execution_count": 7,
     "metadata": {},
     "output_type": "execute_result"
    }
   ],
   "source": [
    "df.head()"
   ]
  },
  {
   "cell_type": "code",
   "execution_count": 8,
   "metadata": {},
   "outputs": [],
   "source": [
    "text_df = tokenize_text(df)"
   ]
  },
  {
   "cell_type": "code",
   "execution_count": 9,
   "metadata": {},
   "outputs": [
    {
     "data": {
      "text/html": [
       "<div>\n",
       "<style scoped>\n",
       "    .dataframe tbody tr th:only-of-type {\n",
       "        vertical-align: middle;\n",
       "    }\n",
       "\n",
       "    .dataframe tbody tr th {\n",
       "        vertical-align: top;\n",
       "    }\n",
       "\n",
       "    .dataframe thead th {\n",
       "        text-align: right;\n",
       "    }\n",
       "</style>\n",
       "<table border=\"1\" class=\"dataframe\">\n",
       "  <thead>\n",
       "    <tr style=\"text-align: right;\">\n",
       "      <th></th>\n",
       "      <th>00</th>\n",
       "      <th>000</th>\n",
       "      <th>0013</th>\n",
       "      <th>002</th>\n",
       "      <th>003</th>\n",
       "      <th>0064</th>\n",
       "      <th>00am</th>\n",
       "      <th>00pm</th>\n",
       "      <th>01</th>\n",
       "      <th>0136</th>\n",
       "      <th>...</th>\n",
       "      <th>zucchetti</th>\n",
       "      <th>zucchini</th>\n",
       "      <th>zuckerberg</th>\n",
       "      <th>zuma</th>\n",
       "      <th>zume</th>\n",
       "      <th>zurile</th>\n",
       "      <th>zwave</th>\n",
       "      <th>zydeco</th>\n",
       "      <th>zylker</th>\n",
       "      <th>zz</th>\n",
       "    </tr>\n",
       "  </thead>\n",
       "  <tbody>\n",
       "    <tr>\n",
       "      <th>0</th>\n",
       "      <td>0</td>\n",
       "      <td>0</td>\n",
       "      <td>0</td>\n",
       "      <td>0</td>\n",
       "      <td>0</td>\n",
       "      <td>0</td>\n",
       "      <td>0</td>\n",
       "      <td>0</td>\n",
       "      <td>0</td>\n",
       "      <td>0</td>\n",
       "      <td>...</td>\n",
       "      <td>0</td>\n",
       "      <td>0</td>\n",
       "      <td>0</td>\n",
       "      <td>0</td>\n",
       "      <td>0</td>\n",
       "      <td>0</td>\n",
       "      <td>0</td>\n",
       "      <td>0</td>\n",
       "      <td>0</td>\n",
       "      <td>0</td>\n",
       "    </tr>\n",
       "    <tr>\n",
       "      <th>1</th>\n",
       "      <td>0</td>\n",
       "      <td>0</td>\n",
       "      <td>0</td>\n",
       "      <td>0</td>\n",
       "      <td>0</td>\n",
       "      <td>0</td>\n",
       "      <td>0</td>\n",
       "      <td>0</td>\n",
       "      <td>0</td>\n",
       "      <td>0</td>\n",
       "      <td>...</td>\n",
       "      <td>0</td>\n",
       "      <td>0</td>\n",
       "      <td>0</td>\n",
       "      <td>0</td>\n",
       "      <td>0</td>\n",
       "      <td>0</td>\n",
       "      <td>0</td>\n",
       "      <td>0</td>\n",
       "      <td>0</td>\n",
       "      <td>0</td>\n",
       "    </tr>\n",
       "    <tr>\n",
       "      <th>2</th>\n",
       "      <td>0</td>\n",
       "      <td>0</td>\n",
       "      <td>0</td>\n",
       "      <td>0</td>\n",
       "      <td>0</td>\n",
       "      <td>0</td>\n",
       "      <td>0</td>\n",
       "      <td>0</td>\n",
       "      <td>0</td>\n",
       "      <td>0</td>\n",
       "      <td>...</td>\n",
       "      <td>0</td>\n",
       "      <td>0</td>\n",
       "      <td>0</td>\n",
       "      <td>0</td>\n",
       "      <td>0</td>\n",
       "      <td>0</td>\n",
       "      <td>0</td>\n",
       "      <td>0</td>\n",
       "      <td>0</td>\n",
       "      <td>0</td>\n",
       "    </tr>\n",
       "    <tr>\n",
       "      <th>3</th>\n",
       "      <td>0</td>\n",
       "      <td>0</td>\n",
       "      <td>0</td>\n",
       "      <td>0</td>\n",
       "      <td>0</td>\n",
       "      <td>0</td>\n",
       "      <td>0</td>\n",
       "      <td>0</td>\n",
       "      <td>0</td>\n",
       "      <td>0</td>\n",
       "      <td>...</td>\n",
       "      <td>0</td>\n",
       "      <td>0</td>\n",
       "      <td>0</td>\n",
       "      <td>0</td>\n",
       "      <td>0</td>\n",
       "      <td>0</td>\n",
       "      <td>0</td>\n",
       "      <td>0</td>\n",
       "      <td>0</td>\n",
       "      <td>0</td>\n",
       "    </tr>\n",
       "    <tr>\n",
       "      <th>4</th>\n",
       "      <td>0</td>\n",
       "      <td>0</td>\n",
       "      <td>0</td>\n",
       "      <td>0</td>\n",
       "      <td>0</td>\n",
       "      <td>0</td>\n",
       "      <td>0</td>\n",
       "      <td>0</td>\n",
       "      <td>0</td>\n",
       "      <td>0</td>\n",
       "      <td>...</td>\n",
       "      <td>0</td>\n",
       "      <td>0</td>\n",
       "      <td>0</td>\n",
       "      <td>0</td>\n",
       "      <td>0</td>\n",
       "      <td>0</td>\n",
       "      <td>0</td>\n",
       "      <td>0</td>\n",
       "      <td>0</td>\n",
       "      <td>0</td>\n",
       "    </tr>\n",
       "  </tbody>\n",
       "</table>\n",
       "<p>5 rows × 23273 columns</p>\n",
       "</div>"
      ],
      "text/plain": [
       "   00  000  0013  002  003  0064  00am  00pm  01  0136  ...  zucchetti  \\\n",
       "0   0    0     0    0    0     0     0     0   0     0  ...          0   \n",
       "1   0    0     0    0    0     0     0     0   0     0  ...          0   \n",
       "2   0    0     0    0    0     0     0     0   0     0  ...          0   \n",
       "3   0    0     0    0    0     0     0     0   0     0  ...          0   \n",
       "4   0    0     0    0    0     0     0     0   0     0  ...          0   \n",
       "\n",
       "   zucchini  zuckerberg  zuma  zume  zurile  zwave  zydeco  zylker  zz  \n",
       "0         0           0     0     0       0      0       0       0   0  \n",
       "1         0           0     0     0       0      0       0       0   0  \n",
       "2         0           0     0     0       0      0       0       0   0  \n",
       "3         0           0     0     0       0      0       0       0   0  \n",
       "4         0           0     0     0       0      0       0       0   0  \n",
       "\n",
       "[5 rows x 23273 columns]"
      ]
     },
     "execution_count": 9,
     "metadata": {},
     "output_type": "execute_result"
    }
   ],
   "source": [
    "text_df.head()\n",
    "#TODO: Do not tokenize words that are numbers, or begin with numbers"
   ]
  },
  {
   "cell_type": "code",
   "execution_count": 10,
   "metadata": {},
   "outputs": [
    {
     "data": {
      "text/plain": [
       "(29976, 23273)"
      ]
     },
     "execution_count": 10,
     "metadata": {},
     "output_type": "execute_result"
    }
   ],
   "source": [
    "text_df.shape"
   ]
  },
  {
   "cell_type": "code",
   "execution_count": 30,
   "metadata": {},
   "outputs": [
    {
     "data": {
      "text/plain": [
       "home         36383\n",
       "room         29147\n",
       "floor        26001\n",
       "bedroom      25413\n",
       "kitchen      20530\n",
       "             ...  \n",
       "longworth        1\n",
       "longstand        1\n",
       "longitud         1\n",
       "longhorn         1\n",
       "00               1\n",
       "Length: 23273, dtype: int64"
      ]
     },
     "execution_count": 30,
     "metadata": {},
     "output_type": "execute_result"
    }
   ],
   "source": [
    "text_df.sum().sort_values(ascending = False)"
   ]
  },
  {
   "cell_type": "code",
   "execution_count": null,
   "metadata": {},
   "outputs": [],
   "source": []
  },
  {
   "cell_type": "code",
   "execution_count": null,
   "metadata": {},
   "outputs": [],
   "source": []
  },
  {
   "cell_type": "code",
   "execution_count": 18,
   "metadata": {},
   "outputs": [],
   "source": [
    "#TODO: Determine commonly used words - add more words to prune, if neccessary\n",
    "text_df.sum().sort_values(ascending = False)[:10]"
   ]
  },
  {
   "cell_type": "code",
   "execution_count": 53,
   "metadata": {},
   "outputs": [
    {
     "data": {
      "text/plain": [
       "<matplotlib.axes._subplots.AxesSubplot at 0x7f614b2e19a0>"
      ]
     },
     "execution_count": 53,
     "metadata": {},
     "output_type": "execute_result"
    },
    {
     "data": {
      "image/png": "[encoded data removed]",
      "text/plain": [
       "<Figure size 432x288 with 1 Axes>"
      ]
     },
     "metadata": {
      "needs_background": "light"
     },
     "output_type": "display_data"
    }
   ],
   "source": [
    "#TODO: Histogram of commonly used words\n",
    "pd.DataFrame(text_df.sum().sort_values(ascending = False)[:20]).plot(kind = 'barh')\n"
   ]
  },
  {
   "cell_type": "code",
   "execution_count": 13,
   "metadata": {},
   "outputs": [],
   "source": [
    "#TODO: Scale sqr_ft, bed, bath, price\n",
    "#TODO: Build dataset of tokenized description words and other scaled data - sqr_ft, bed, bath, price\n",
    "\n",
    "#TODO: Group listings via KNearestNeighbors\n",
    "\n",
    "#TODO: Determine how value is influenced by sqr_ft, bed, bath, price\n",
    "#TODO: Determine how value is influenced by description"
   ]
  }
 ],
 "metadata": {
  "kernelspec": {
   "display_name": "Python 3",
   "language": "python",
   "name": "python3"
  },
  "language_info": {
   "codemirror_mode": {
    "name": "ipython",
    "version": 3
   },
   "file_extension": ".py",
   "mimetype": "text/x-python",
   "name": "python",
   "nbconvert_exporter": "python",
   "pygments_lexer": "ipython3",
   "version": "3.8.3"
  }
 },
 "nbformat": 4,
 "nbformat_minor": 4
}
